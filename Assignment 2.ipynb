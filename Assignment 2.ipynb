{
 "cells": [
  {
   "cell_type": "markdown",
   "id": "85865cef",
   "metadata": {},
   "source": [
    "### 1. Write a Python program to reverse a word after accepting the input from the user."
   ]
  },
  {
   "cell_type": "code",
   "execution_count": 6,
   "id": "6487f8ca",
   "metadata": {},
   "outputs": [
    {
     "name": "stdout",
     "output_type": "stream",
     "text": [
      "Enter the number : 6\n",
      " \n",
      "* \n",
      "** \n",
      "*** \n",
      "**** \n",
      "***** \n",
      "****** \n",
      "***** \n",
      "**** \n",
      "*** \n",
      "** \n",
      "* \n"
     ]
    }
   ],
   "source": [
    "n = int(input('Enter the number : '))\n",
    "for i in range(n):\n",
    "    for j in range(i):\n",
    "        print('*',end = '')\n",
    "    print(' ')\n",
    "for i in range(n,0,-1):\n",
    "    for j in range(i):\n",
    "        print('*',end = '')\n",
    "    print(' ')"
   ]
  },
  {
   "cell_type": "markdown",
   "id": "d78eeee1",
   "metadata": {},
   "source": [
    "### 2. Create the below pattern using nested for loop in Python. "
   ]
  },
  {
   "cell_type": "code",
   "execution_count": 8,
   "id": "5e166109",
   "metadata": {},
   "outputs": [
    {
     "name": "stdout",
     "output_type": "stream",
     "text": [
      "Enter the a word : ronaldo\n",
      "The word after reversing :  odlanor\n"
     ]
    }
   ],
   "source": [
    "n = input('Enter the a word : ')\n",
    "print('The word after reversing : ',n[::-1])"
   ]
  }
 ],
 "metadata": {
  "kernelspec": {
   "display_name": "Python 3",
   "language": "python",
   "name": "python3"
  },
  "language_info": {
   "codemirror_mode": {
    "name": "ipython",
    "version": 3
   },
   "file_extension": ".py",
   "mimetype": "text/x-python",
   "name": "python",
   "nbconvert_exporter": "python",
   "pygments_lexer": "ipython3",
   "version": "3.8.8"
  }
 },
 "nbformat": 4,
 "nbformat_minor": 5
}
